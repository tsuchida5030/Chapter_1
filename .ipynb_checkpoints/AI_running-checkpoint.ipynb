{
 "cells": [
  {
   "cell_type": "code",
   "execution_count": 17,
   "metadata": {},
   "outputs": [
    {
     "data": {
      "text/plain": [
       "array([2.   , 2.125, 2.25 , 2.375, 2.5  , 2.625, 2.75 , 2.875, 3.   ])"
      ]
     },
     "metadata": {},
     "output_type": "display_data"
    },
    {
     "data": {
      "text/plain": [
       "array([[0, 1, 2],\n",
       "       [3, 4, 5],\n",
       "       [6, 7, 8]])"
      ]
     },
     "metadata": {},
     "output_type": "display_data"
    },
    {
     "data": {
      "text/plain": [
       "array([0, 1, 2])"
      ]
     },
     "metadata": {},
     "output_type": "display_data"
    },
    {
     "data": {
      "text/plain": [
       "array([0, 3, 6])"
      ]
     },
     "metadata": {},
     "output_type": "display_data"
    },
    {
     "data": {
      "text/plain": [
       "array([[ 9, 10, 11],\n",
       "       [12, 13, 14],\n",
       "       [15, 16, 17]])"
      ]
     },
     "metadata": {},
     "output_type": "display_data"
    },
    {
     "data": {
      "text/plain": [
       "array([[  0,  10,  22],\n",
       "       [ 36,  52,  70],\n",
       "       [ 90, 112, 136]])"
      ]
     },
     "metadata": {},
     "output_type": "display_data"
    },
    {
     "data": {
      "text/plain": [
       "array([[ 42,  45,  48],\n",
       "       [150, 162, 174],\n",
       "       [258, 279, 300]])"
      ]
     },
     "metadata": {},
     "output_type": "display_data"
    }
   ],
   "source": [
    "#AI-TECHGYM-N-B\n",
    "import numpy as np\n",
    "\n",
    "#2から3までに9個の要素を持つ列\n",
    "array = np.array([2 + (i / 8) for i in range(9)])\n",
    "display(array)\n",
    "\n",
    "#0から8までの整数を発生します\n",
    "\n",
    "\n",
    "# データの準備 3x3の行列にする\n",
    "array1 = np.arange(9).reshape([3, 3])\n",
    "display(array1)\n",
    "\n",
    "#「[行範囲:列範囲]」\n",
    "#開始インデックスや終了インデックスを省略したときは、それぞれ「最初から」「末尾まで」という意味\n",
    "\n",
    "#1行目\n",
    "display(array1[0, :])\n",
    "\n",
    "#1列目\n",
    "display(array1[:, 0])\n",
    "\n",
    "array2 = np.arange(9, 18).reshape([3, 3])\n",
    "display(array2)\n",
    "\n",
    "#行列の各要素の掛け算\n",
    "display(array1 * array2)\n",
    "\n",
    "#行列の掛け算\n",
    "display(np.dot(array1, array2))"
   ]
  }
 ],
 "metadata": {
  "kernelspec": {
   "display_name": "Python 3",
   "language": "python",
   "name": "python3"
  },
  "language_info": {
   "codemirror_mode": {
    "name": "ipython",
    "version": 3
   },
   "file_extension": ".py",
   "mimetype": "text/x-python",
   "name": "python",
   "nbconvert_exporter": "python",
   "pygments_lexer": "ipython3",
   "version": "3.7.3"
  }
 },
 "nbformat": 4,
 "nbformat_minor": 2
}
